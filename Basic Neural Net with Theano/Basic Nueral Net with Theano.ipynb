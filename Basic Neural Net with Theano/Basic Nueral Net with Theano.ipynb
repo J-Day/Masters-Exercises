{
 "cells": [
  {
   "cell_type": "markdown",
   "metadata": {},
   "source": [
    "### Import libraries"
   ]
  },
  {
   "cell_type": "code",
   "execution_count": 6,
   "metadata": {},
   "outputs": [],
   "source": [
    "import numpy as np\n",
    "import math\n",
    "import matplotlib.pyplot as plt\n",
    "\n",
    "import theano.tensor as T\n",
    "import theano"
   ]
  },
  {
   "cell_type": "markdown",
   "metadata": {},
   "source": [
    "Create a dataset with the following code:"
   ]
  },
  {
   "cell_type": "code",
   "execution_count": 7,
   "metadata": {},
   "outputs": [],
   "source": [
    "trX = np.linspace(-1, 1, 101)\n",
    "\n",
    "trY = np.linspace(-1, 1, 101)\n",
    "\n",
    "for i in range(len(trY)):\n",
    "\n",
    "    trY[i] = math.log(1 + 0.5 * abs(trX[i])) + trX[i] / 3 + np.random.randn() * 0.033"
   ]
  },
  {
   "cell_type": "markdown",
   "metadata": {},
   "source": [
    "Now, use Theano to obtain the parameters w_o and w_1 for the following model:\n",
    "\n",
    "$y = log(1 + w_o|x|) + w_1$\n",
    "\n",
    "using the data generated above."
   ]
  },
  {
   "cell_type": "code",
   "execution_count": 8,
   "metadata": {},
   "outputs": [
    {
     "name": "stdout",
     "output_type": "stream",
     "text": [
      "w_0 = 0.5127 , w_1 = -0.008\n"
     ]
    }
   ],
   "source": [
    "# Set X and Y to vectors\n",
    "X = T.vector()\n",
    "Y = T.vector()\n",
    "\n",
    "# Define model using the formula provided\n",
    "def model(X, w_0, w_1):\n",
    "    return T.log(1 + (w_0 * abs(X))) + w_1\n",
    "\n",
    "w_0 = theano.shared(np.array(0., dtype=theano.config.floatX)) # Set weight of X\n",
    "w_1 = theano.shared(np.array(0., dtype=theano.config.floatX)) # Set constant\n",
    "y = model(X, w_0, w_1) # Set y equal to the formula provided\n",
    "\n",
    "cost = T.sqrt(T.mean(T.sqr(y - Y))) # Calculate cost as root mean squared error\n",
    "grad_w_0 = T.grad(cost, w_0) # Calculate gradients for use in gradient descent\n",
    "grad_w_1 = T.grad(cost, w_1)\n",
    "updates = [[w_0, w_0 - grad_w_0 * 0.01], [w_1, w_1 - grad_w_1 * 0.01]] # Define activation function\n",
    "\n",
    "train = theano.function(inputs=[X, Y], outputs=cost, updates=updates) # Create Theano function to train the model \n",
    "\n",
    "predict = theano.function(inputs=[X], outputs=y) # Create Theano function for making predicitons\n",
    "\n",
    "# Train model with 20000 iterations\n",
    "num_iterations = 20000\n",
    "for i in range(num_iterations):\n",
    "    train(np.asarray(trX), np.asarray(trY)) # Train model converting X and Y to arrays, i.e vectors\n",
    "        \n",
    "print('w_0 =', np.round(w_0.get_value(), 4), ', w_1 =', np.round(w_1.get_value(), 4))"
   ]
  },
  {
   "cell_type": "code",
   "execution_count": 9,
   "metadata": {},
   "outputs": [
    {
     "data": {
      "image/png": "[encoded data removed]",
      "text/plain": [
       "<Figure size 576x432 with 1 Axes>"
      ]
     },
     "metadata": {
      "needs_background": "light"
     },
     "output_type": "display_data"
    }
   ],
   "source": [
    "# Plot Regression line\n",
    "a = np.linspace(min(trX), max(trX))\n",
    "b = predict(np.asarray(a)) # Use predict function \n",
    "\n",
    "# Plot predicted values as a line\n",
    "plt.figure(figsize=(8,6))\n",
    "plt.plot(a, b, label='Regression Line', color='b')\n",
    "plt.scatter(trX, trY, color='r', label='Training Data')\n",
    "plt.xlabel('X')\n",
    "plt.ylabel('Y')\n",
    "plt.legend()\n",
    "plt.show()"
   ]
  },
  {
   "cell_type": "code",
   "execution_count": null,
   "metadata": {},
   "outputs": [],
   "source": []
  }
 ],
 "metadata": {
  "kernelspec": {
   "display_name": "Python 3",
   "language": "python",
   "name": "python3"
  },
  "language_info": {
   "codemirror_mode": {
    "name": "ipython",
    "version": 3
   },
   "file_extension": ".py",
   "mimetype": "text/x-python",
   "name": "python",
   "nbconvert_exporter": "python",
   "pygments_lexer": "ipython3",
   "version": "3.7.6"
  }
 },
 "nbformat": 4,
 "nbformat_minor": 4
}
